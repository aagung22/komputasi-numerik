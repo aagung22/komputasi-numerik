{
  "nbformat": 4,
  "nbformat_minor": 0,
  "metadata": {
    "colab": {
      "provenance": [],
      "authorship_tag": "ABX9TyNsT2+vqPmQ1A32SSNFaf6G",
      "include_colab_link": true
    },
    "kernelspec": {
      "name": "python3",
      "display_name": "Python 3"
    },
    "language_info": {
      "name": "python"
    }
  },
  "cells": [
    {
      "cell_type": "markdown",
      "metadata": {
        "id": "view-in-github",
        "colab_type": "text"
      },
      "source": [
        "<a href=\"https://colab.research.google.com/github/aagung22/komputasi-numerik/blob/main/Bisection42.ipynb\" target=\"_parent\"><img src=\"https://colab.research.google.com/assets/colab-badge.svg\" alt=\"Open In Colab\"/></a>"
      ]
    },
    {
      "cell_type": "markdown",
      "source": [
        "y = x^2 + 2x -3"
      ],
      "metadata": {
        "id": "1Cvam7Dw3fFO"
      }
    },
    {
      "cell_type": "code",
      "source": [
        "import numpy"
      ],
      "metadata": {
        "id": "_KIX_qCK3sy-"
      },
      "execution_count": null,
      "outputs": []
    },
    {
      "cell_type": "code",
      "source": [
        "a=0\n",
        "b=2\n",
        "c = (a+b)/2"
      ],
      "metadata": {
        "id": "apEitp2o4qAa"
      },
      "execution_count": null,
      "outputs": []
    },
    {
      "cell_type": "code",
      "source": [
        "while ((c*c + 2*c - 3) > 0.005):\n",
        "    if ((a*a + 2*a - 3) * (c*c + 2*c - 3)) < 0:\n",
        "        b = c\n",
        "    else:\n",
        "        a = c\n",
        "    c = (a+b)/2\n",
        "print(c)\n"
      ],
      "metadata": {
        "colab": {
          "base_uri": "https://localhost:8080/"
        },
        "id": "zxnsCJwc4sSJ",
        "outputId": "87cdc846-fff2-4074-a718-511d02b0bb3c"
      },
      "execution_count": null,
      "outputs": [
        {
          "output_type": "stream",
          "name": "stdout",
          "text": [
            "1.0\n"
          ]
        }
      ]
    },
    {
      "cell_type": "code",
      "source": [
        "yc = c*c + 2*c - 3\n",
        "print(yc)\n"
      ],
      "metadata": {
        "colab": {
          "base_uri": "https://localhost:8080/"
        },
        "id": "ySg7DPdC4wKK",
        "outputId": "af48a9ac-eaee-4c30-8edc-83f977f8423d"
      },
      "execution_count": null,
      "outputs": [
        {
          "output_type": "stream",
          "name": "stdout",
          "text": [
            "0.0\n"
          ]
        }
      ]
    },
    {
      "cell_type": "code",
      "source": [
        "if (ya*yc) < 0 :\n",
        "  b=c\n",
        "else:\n",
        "  a=c\n",
        "print(a,b,c)"
      ],
      "metadata": {
        "colab": {
          "base_uri": "https://localhost:8080/"
        },
        "id": "1BTOarFl5GLp",
        "outputId": "1efa4bcb-082f-491e-8f04-5c976b1942b4"
      },
      "execution_count": null,
      "outputs": [
        {
          "output_type": "stream",
          "name": "stdout",
          "text": [
            "1.0 2 1.0\n"
          ]
        }
      ]
    }
  ]
}