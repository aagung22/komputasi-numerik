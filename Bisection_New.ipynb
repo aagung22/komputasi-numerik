{
  "nbformat": 4,
  "nbformat_minor": 0,
  "metadata": {
    "colab": {
      "provenance": [],
      "authorship_tag": "ABX9TyM2I7err7wRvL5rlAKT6pW6",
      "include_colab_link": true
    },
    "kernelspec": {
      "name": "python3",
      "display_name": "Python 3"
    },
    "language_info": {
      "name": "python"
    }
  },
  "cells": [
    {
      "cell_type": "markdown",
      "metadata": {
        "id": "view-in-github",
        "colab_type": "text"
      },
      "source": [
        "<a href=\"https://colab.research.google.com/github/aagung22/komputasi-numerik/blob/main/Bisection_New.ipynb\" target=\"_parent\"><img src=\"https://colab.research.google.com/assets/colab-badge.svg\" alt=\"Open In Colab\"/></a>"
      ]
    },
    {
      "cell_type": "code",
      "execution_count": 1,
      "metadata": {
        "colab": {
          "base_uri": "https://localhost:8080/"
        },
        "id": "u0GQ3_Ws9N83",
        "outputId": "5f18ae4e-c516-42da-f686-e7d24c0c9a05"
      },
      "outputs": [
        {
          "name": "stdout",
          "output_type": "stream",
          "text": [
            "Masukkan Nilai a, b, dan e\n",
            "Nilai a: 3\n",
            "Nilai b: 5\n",
            "Nilai e: 0.00001\n"
          ]
        }
      ],
      "source": [
        "print(\"Masukkan Nilai a, b, dan e\")\n",
        "a = float(input(\"Nilai a: \"))\n",
        "b = float(input(\"Nilai b: \"))\n",
        "e = float(input(\"Nilai e: \"))"
      ]
    },
    {
      "cell_type": "code",
      "source": [
        "c = (a + b) / 2\n",
        "print(\"Nilai C = \", c)"
      ],
      "metadata": {
        "colab": {
          "base_uri": "https://localhost:8080/"
        },
        "id": "PqN4B19VGw11",
        "outputId": "d25c5b1a-80b1-4614-a7fa-ff7ec1c39cd6"
      },
      "execution_count": 2,
      "outputs": [
        {
          "output_type": "stream",
          "name": "stdout",
          "text": [
            "Nilai C =  4.0\n"
          ]
        }
      ]
    },
    {
      "cell_type": "code",
      "source": [
        "fa = a*a - 6*a + 5\n",
        "fc = c*c - 6*c + 5\n",
        "print(fa)\n",
        "print(fc)"
      ],
      "metadata": {
        "colab": {
          "base_uri": "https://localhost:8080/"
        },
        "id": "9bFhw5q7DRau",
        "outputId": "2e2d2f2b-6041-4059-faf8-e55ca4c39e43"
      },
      "execution_count": 3,
      "outputs": [
        {
          "output_type": "stream",
          "name": "stdout",
          "text": [
            "-4.0\n",
            "-3.0\n"
          ]
        }
      ]
    },
    {
      "cell_type": "code",
      "source": [
        "while(abs(fc)>=e):\n",
        "  c = (a+b)/2\n",
        "  print(\"Nilai c adalah = \",c)\n",
        "\n",
        "  fa=(a*a - 6*a +5)\n",
        "  fc=(c*c - 6*c +5)\n",
        "\n",
        "  if((fa*fc)>0):\n",
        "    a=c\n",
        "  else:\n",
        "    b=c\n",
        "print(c)\n",
        "print(fc)"
      ],
      "metadata": {
        "colab": {
          "base_uri": "https://localhost:8080/"
        },
        "id": "siG7qLF9BNjm",
        "outputId": "9f929064-3622-468b-beed-ef75a2cb3e0b"
      },
      "execution_count": 4,
      "outputs": [
        {
          "output_type": "stream",
          "name": "stdout",
          "text": [
            "Nilai c adalah =  4.0\n",
            "Nilai c adalah =  4.5\n",
            "Nilai c adalah =  4.75\n",
            "Nilai c adalah =  4.875\n",
            "Nilai c adalah =  4.9375\n",
            "Nilai c adalah =  4.96875\n",
            "Nilai c adalah =  4.984375\n",
            "Nilai c adalah =  4.9921875\n",
            "Nilai c adalah =  4.99609375\n",
            "Nilai c adalah =  4.998046875\n",
            "Nilai c adalah =  4.9990234375\n",
            "Nilai c adalah =  4.99951171875\n",
            "Nilai c adalah =  4.999755859375\n",
            "Nilai c adalah =  4.9998779296875\n",
            "Nilai c adalah =  4.99993896484375\n",
            "Nilai c adalah =  4.999969482421875\n",
            "Nilai c adalah =  4.9999847412109375\n",
            "Nilai c adalah =  4.999992370605469\n",
            "Nilai c adalah =  4.999996185302734\n",
            "Nilai c adalah =  4.999998092651367\n",
            "4.999998092651367\n",
            "-7.629390893271193e-06\n"
          ]
        }
      ]
    }
  ]
}